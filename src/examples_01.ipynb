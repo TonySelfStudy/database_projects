{
 "cells": [
  {
   "cell_type": "code",
   "execution_count": 6,
   "metadata": {},
   "outputs": [],
   "source": [
    "# Notes on SQLite Usage\n",
    "# Based on the book: Python and SQLite Development\n",
    "# Tony Held tony.held@gmail.com\n",
    "# Created 02-15-21"
   ]
  },
  {
   "cell_type": "code",
   "execution_count": 2,
   "metadata": {},
   "outputs": [],
   "source": [
    "# **********************************************\n",
    "#    Jupyter Interactive Mode Settings\n",
    "#\n",
    "#    These control what is printed in the out: cell\n",
    "# **********************************************\n",
    "\n",
    "# How interactive you want is discussed:\n",
    "# https://ipython.readthedocs.io/en/stable/config/options/terminal.html\n",
    "# Options are: 'all', 'last', 'last_expr', 'none', 'last_expr_or_assign'\n",
    "# Default is: 'last_expr'\n",
    "# InteractiveShell.ast_node_interactivity I can only get last_expr_or_assign to work\n",
    "\n",
    "from IPython.core.interactiveshell import InteractiveShell\n",
    "InteractiveShell.ast_node_interactivity = \"last_expr_or_assign\""
   ]
  },
  {
   "cell_type": "code",
   "execution_count": 3,
   "metadata": {},
   "outputs": [],
   "source": [
    "# **********************************************\n",
    "# Allows autocomplete to work properly\n",
    "#\n",
    "# Tab for auto-complete options, tab to scroll down, return to select\n",
    "# Shift+Tab to get a functions signature (after you have imported them)\n",
    "#\n",
    "# https://stackoverflow.com/questions/40536560/ipython-and-jupyter-autocomplete-not-working\n",
    "# **********************************************\n",
    "\n",
    "%config Completer.use_jedi = False\n",
    "\n",
    "# Not sure how/when this helps\n",
    "%config IPCompleter.greedy = True"
   ]
  },
  {
   "cell_type": "code",
   "execution_count": 4,
   "metadata": {},
   "outputs": [
    {
     "data": {
      "text/plain": [
       "<bound method PrettyPrinter.pprint of <pprint.PrettyPrinter object at 0x0000025E6DFBF7F0>>"
      ]
     },
     "execution_count": 4,
     "metadata": {},
     "output_type": "execute_result"
    }
   ],
   "source": [
    "import pprint\n",
    "pp = pprint.PrettyPrinter(indent=4)\n",
    "pprint = pp.pprint\n",
    "# usage pp(stuff)"
   ]
  },
  {
   "cell_type": "code",
   "execution_count": 5,
   "metadata": {},
   "outputs": [],
   "source": [
    "def values(var, exclude_starting_with=\"_\"):\n",
    "    \"\"\"Show variable attributes and values for diagnostic debugging purposes.\n",
    "    \n",
    "    Set exclude_starting_with to '' if you wish to include all attributes.\"\"\"\n",
    "    \n",
    "    print(f'Variable type: {type(var)}')\n",
    "    \n",
    "    if exclude_starting_with:\n",
    "        attrs = [i for i in dir(var) if not i.startswith(exclude_starting_with)]\n",
    "    else:\n",
    "        attrs = [i for i in dir(var)]\n",
    "            \n",
    "    for i in attrs:\n",
    "        print(f'\\n{i}:\\n{\"-\"*20}\\n{getattr(var, i)}')"
   ]
  },
  {
   "cell_type": "code",
   "execution_count": null,
   "metadata": {},
   "outputs": [],
   "source": []
  }
 ],
 "metadata": {
  "kernelspec": {
   "display_name": "Python 3",
   "language": "python",
   "name": "python3"
  },
  "language_info": {
   "codemirror_mode": {
    "name": "ipython",
    "version": 3
   },
   "file_extension": ".py",
   "mimetype": "text/x-python",
   "name": "python",
   "nbconvert_exporter": "python",
   "pygments_lexer": "ipython3",
   "version": "3.8.5"
  }
 },
 "nbformat": 4,
 "nbformat_minor": 4
}
