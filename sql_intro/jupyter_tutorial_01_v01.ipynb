{
 "cells": [
  {
   "cell_type": "markdown",
   "id": "alternate-second",
   "metadata": {},
   "source": [
    "# Introduction to Python SQL Libraries\n",
    "* Created by: Tony Held (tony.held@gmail.com)  \n",
    "* Created on: 2021-03-08  \n",
    "* References:  \n",
    "    * https://realpython.com/python-sql-libraries/\n",
    "    * https://www.w3schools.com/sql/sql_intro.asp\n",
    "    * https://towardsdatascience.com/sql-in-python-for-beginners-b9a4f9293ecf"
   ]
  },
  {
   "cell_type": "code",
   "execution_count": 5,
   "id": "useful-questionnaire",
   "metadata": {},
   "outputs": [],
   "source": [
    "# **********************************************\n",
    "#     Jupyter Interactive Mode Settings\n",
    "# **********************************************\n",
    "from IPython.core.interactiveshell import InteractiveShell\n",
    "InteractiveShell.ast_node_interactivity = \"last_expr_or_assign\"\n",
    "\n",
    "# **********************************************\n",
    "#     Allows autocomplete to work properly\n",
    "# **********************************************\n",
    "%config Completer.use_jedi = False"
   ]
  },
  {
   "cell_type": "code",
   "execution_count": 6,
   "id": "convinced-windsor",
   "metadata": {},
   "outputs": [
    {
     "data": {
      "text/plain": [
       "<pprint.PrettyPrinter at 0x1a119abb370>"
      ]
     },
     "execution_count": 6,
     "metadata": {},
     "output_type": "execute_result"
    }
   ],
   "source": [
    "import pprint\n",
    "pp = pprint.PrettyPrinter(indent=4)\n",
    "# usage pp.pprint(stuff)"
   ]
  },
  {
   "cell_type": "code",
   "execution_count": 7,
   "id": "recreational-jurisdiction",
   "metadata": {},
   "outputs": [],
   "source": [
    "def values(var, exclude_starting_with=\"_\"):\n",
    "    \"\"\"Show variable attributes and values for diagnostic debugging purposes.\n",
    "    \n",
    "    Set exclude_starting_with to '' if you wish to include all attributes.\"\"\"\n",
    "    \n",
    "    print(f'Variable type: {type(var)}')\n",
    "    \n",
    "    if exclude_starting_with:\n",
    "        attrs = [i for i in dir(var) if not i.startswith(exclude_starting_with)]\n",
    "    else:\n",
    "        attrs = [i for i in dir(var)]\n",
    "            \n",
    "    for i in attrs:\n",
    "        print(f'\\n{i}:\\n{\"-\"*20}\\n{getattr(var, i)}')"
   ]
  },
  {
   "cell_type": "code",
   "execution_count": 4,
   "id": "suburban-blend",
   "metadata": {},
   "outputs": [],
   "source": [
    "import pandas as pd\n",
    "from sqlalchemy import create_engine"
   ]
  },
  {
   "cell_type": "code",
   "execution_count": null,
   "id": "actual-visiting",
   "metadata": {},
   "outputs": [],
   "source": []
  }
 ],
 "metadata": {
  "kernelspec": {
   "display_name": "Python 3",
   "language": "python",
   "name": "python3"
  },
  "language_info": {
   "codemirror_mode": {
    "name": "ipython",
    "version": 3
   },
   "file_extension": ".py",
   "mimetype": "text/x-python",
   "name": "python",
   "nbconvert_exporter": "python",
   "pygments_lexer": "ipython3",
   "version": "3.8.8"
  }
 },
 "nbformat": 4,
 "nbformat_minor": 5
}
