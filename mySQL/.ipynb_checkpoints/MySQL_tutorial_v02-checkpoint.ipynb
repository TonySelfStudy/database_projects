{
 "cells": [
  {
   "cell_type": "markdown",
   "id": "intelligent-brake",
   "metadata": {},
   "source": [
    "# Python and MySQL Introduction\n",
    "## Tutorial & Notes\n",
    "* Created by: Tony Held (tony.held@gmail.com)  \n",
    "* Created on: 2021-03-10 \n",
    "* Source: https://realpython.com/python-mysql/"
   ]
  },
  {
   "cell_type": "code",
   "execution_count": 1,
   "id": "adverse-burner",
   "metadata": {},
   "outputs": [],
   "source": [
    "# **********************************************\n",
    "#     Jupyter Interactive Mode Settings\n",
    "# **********************************************\n",
    "from IPython.core.interactiveshell import InteractiveShell\n",
    "InteractiveShell.ast_node_interactivity = \"last_expr_or_assign\"\n",
    "\n",
    "# **********************************************\n",
    "#     Allows autocomplete to work properly\n",
    "# **********************************************\n",
    "%config Completer.use_jedi = False"
   ]
  },
  {
   "cell_type": "code",
   "execution_count": 2,
   "id": "sophisticated-malpractice",
   "metadata": {},
   "outputs": [
    {
     "data": {
      "text/plain": [
       "<pprint.PrettyPrinter at 0x1b5f4a10700>"
      ]
     },
     "execution_count": 2,
     "metadata": {},
     "output_type": "execute_result"
    }
   ],
   "source": [
    "import pprint\n",
    "pp = pprint.PrettyPrinter(indent=4)\n",
    "# usage pp.pprint(stuff)"
   ]
  },
  {
   "cell_type": "code",
   "execution_count": 3,
   "id": "super-muslim",
   "metadata": {},
   "outputs": [],
   "source": [
    "def values(var, exclude_starting_with=\"_\"):\n",
    "    \"\"\"Show variable attributes and values for diagnostic debugging purposes.\n",
    "    \n",
    "    Set exclude_starting_with to '' if you wish to include all attributes.\"\"\"\n",
    "    \n",
    "    print(f'Variable type: {type(var)}')\n",
    "    \n",
    "    if exclude_starting_with:\n",
    "        attrs = [i for i in dir(var) if not i.startswith(exclude_starting_with)]\n",
    "    else:\n",
    "        attrs = [i for i in dir(var)]\n",
    "            \n",
    "    for i in attrs:\n",
    "        print(f'\\n{i}:\\n{\"-\"*20}\\n{getattr(var, i)}')"
   ]
  },
  {
   "cell_type": "code",
   "execution_count": 4,
   "id": "elder-alexander",
   "metadata": {},
   "outputs": [],
   "source": [
    "# Function to show diagnostics for a cursor execution\n",
    "def diag_execute(my_cursor, sql_statement):\n",
    "    \n",
    "    print(f'Executing: \"{sql_statement}\"\\n')\n",
    "    my_cursor.execute(sql_statement)\n",
    "    \n",
    "    print(f'Results of Execution:\\n' +\n",
    "           '--------------------')\n",
    "    for row in my_cursor.fetchall():\n",
    "        print(row)\n",
    "    print()"
   ]
  },
  {
   "cell_type": "markdown",
   "id": "ready-belle",
   "metadata": {},
   "source": [
    "## Get username and password for to access databases"
   ]
  },
  {
   "cell_type": "code",
   "execution_count": null,
   "id": "wicked-fifteen",
   "metadata": {
    "scrolled": true
   },
   "outputs": [],
   "source": [
    "from getpass import getpass\n",
    "my_username=input(\"Enter username: \")\n",
    "my_password=getpass(\"Enter password: \")"
   ]
  },
  {
   "cell_type": "markdown",
   "id": "small-botswana",
   "metadata": {},
   "source": [
    "## Establishing a Connection to MySQL Local Server\n",
    "* Calling connect() gives you a connection (type: mysql.connector.connection_cext.CMySQLConnection')"
   ]
  },
  {
   "cell_type": "code",
   "execution_count": 6,
   "id": "psychological-constitutional",
   "metadata": {},
   "outputs": [
    {
     "name": "stdout",
     "output_type": "stream",
     "text": [
      "<class 'mysql.connector.connection_cext.CMySQLConnection'>\n",
      "<mysql.connector.connection_cext.CMySQLConnection object at 0x000001B5F4A53B80>\n"
     ]
    }
   ],
   "source": [
    "import mysql.connector\n",
    "from mysql.connector import connect, Error\n",
    "\n",
    "try:\n",
    "    with connect(\n",
    "        host=\"localhost\",\n",
    "        user=my_username,\n",
    "        password=my_password,\n",
    "    ) as connection:\n",
    "        print(type(connection))\n",
    "        print(connection)\n",
    "except Error as e:\n",
    "    print(e)"
   ]
  },
  {
   "cell_type": "code",
   "execution_count": 7,
   "id": "stable-petroleum",
   "metadata": {},
   "outputs": [
    {
     "name": "stdout",
     "output_type": "stream",
     "text": [
      "<class 'mysql.connector.connection_cext.CMySQLConnection'>\n",
      "<mysql.connector.connection_cext.CMySQLConnection object at 0x000001B5F4A532E0>\n"
     ]
    }
   ],
   "source": [
    "with connect(host=\"localhost\", \n",
    "             user=my_username, \n",
    "             password=my_password) as connection:\n",
    "    print(type(connection))\n",
    "    print(connection)"
   ]
  },
  {
   "cell_type": "markdown",
   "id": "changing-agreement",
   "metadata": {},
   "source": [
    "## Create a cursor on a connection object to be able to execute SQL statements\n",
    "* A cursor is the same as if you were at a terminal cursor\n",
    "* The results of a command you issue at a cursor is looped through as lines of text\n",
    "* You can use this cursor to create a database"
   ]
  },
  {
   "cell_type": "code",
   "execution_count": 8,
   "id": "decimal-salvation",
   "metadata": {},
   "outputs": [
    {
     "name": "stdout",
     "output_type": "stream",
     "text": [
      "<class 'mysql.connector.cursor_cext.CMySQLCursor'>\n",
      "CMySQLCursor: (Nothing executed yet)\n"
     ]
    }
   ],
   "source": [
    "# Create cursor and leave it open - a little fast and loose, but less code :)\n",
    "\n",
    "connection = connect(host=\"localhost\", \n",
    "                     user=my_username, \n",
    "                     password=my_password)\n",
    "cursor = connection.cursor()\n",
    "print(type(cursor))\n",
    "print(cursor)"
   ]
  },
  {
   "cell_type": "code",
   "execution_count": 9,
   "id": "physical-stationery",
   "metadata": {},
   "outputs": [
    {
     "name": "stdout",
     "output_type": "stream",
     "text": [
      "CMySQLCursor: CREATE DATABASE IF NOT EXISTS online_mov..\n"
     ]
    }
   ],
   "source": [
    "create_db_query = \"CREATE DATABASE IF NOT EXISTS online_movie_rating\"\n",
    "cursor.execute(create_db_query)\n",
    "print(cursor)"
   ]
  },
  {
   "cell_type": "code",
   "execution_count": 10,
   "id": "needed-society",
   "metadata": {},
   "outputs": [
    {
     "name": "stdout",
     "output_type": "stream",
     "text": [
      "CMySQLCursor: SHOW DATABASES\n"
     ]
    }
   ],
   "source": [
    "show_db_query = \"SHOW DATABASES\"\n",
    "cursor.execute(show_db_query)\n",
    "print(cursor)"
   ]
  },
  {
   "cell_type": "code",
   "execution_count": 11,
   "id": "loving-syndicate",
   "metadata": {},
   "outputs": [
    {
     "name": "stdout",
     "output_type": "stream",
     "text": [
      "('information_schema',)\n",
      "('mysql',)\n",
      "('online_movie_rating',)\n",
      "('performance_schema',)\n",
      "('sys',)\n"
     ]
    }
   ],
   "source": [
    "# loop through a cursor to see its output\n",
    "for db in cursor:\n",
    "    print(db)"
   ]
  },
  {
   "cell_type": "code",
   "execution_count": 12,
   "id": "diverse-ferry",
   "metadata": {},
   "outputs": [],
   "source": [
    "# Close cursor and connection\n",
    "cursor.close()\n",
    "connection.close()"
   ]
  },
  {
   "cell_type": "markdown",
   "id": "varying-belly",
   "metadata": {},
   "source": [
    "## Open connection to newly formed database\n",
    "* Connection approach is the same, but now you specify a database"
   ]
  },
  {
   "cell_type": "code",
   "execution_count": 13,
   "id": "criminal-liability",
   "metadata": {},
   "outputs": [],
   "source": [
    "connection = connect(host=\"localhost\",\n",
    "                     user=my_username,\n",
    "                     password=my_password,\n",
    "                     database=\"online_movie_rating\");"
   ]
  },
  {
   "cell_type": "code",
   "execution_count": 14,
   "id": "independent-freight",
   "metadata": {},
   "outputs": [],
   "source": [
    "# Create cursor without context manager to reduce code in examples\n",
    "cursor = connection.cursor();"
   ]
  },
  {
   "cell_type": "code",
   "execution_count": 15,
   "id": "environmental-recommendation",
   "metadata": {},
   "outputs": [
    {
     "name": "stdout",
     "output_type": "stream",
     "text": [
      "('online_movie_rating',)\n"
     ]
    }
   ],
   "source": [
    "# Find out what database the cursor is connected to\n",
    "cursor.execute('SELECT DATABASE()')\n",
    "for row in cursor.fetchall():\n",
    "    print(row)"
   ]
  },
  {
   "cell_type": "code",
   "execution_count": 16,
   "id": "suspended-gothic",
   "metadata": {},
   "outputs": [
    {
     "name": "stdout",
     "output_type": "stream",
     "text": [
      "('movies',)\n",
      "('ratings',)\n",
      "('reviewers',)\n"
     ]
    }
   ],
   "source": [
    "# Display tables in the connected database\n",
    "cursor.execute('SHOW TABLES')\n",
    "for row in cursor.fetchall():\n",
    "    print(row)"
   ]
  },
  {
   "cell_type": "code",
   "execution_count": 17,
   "id": "following-painting",
   "metadata": {},
   "outputs": [
    {
     "name": "stdout",
     "output_type": "stream",
     "text": [
      "Executing: \"DROP TABLE IF EXISTS movies, ratings, reviewers\"\n",
      "\n",
      "Results of Execution:\n",
      "--------------------\n",
      "\n"
     ]
    }
   ],
   "source": [
    "# Delete all the table if you are running this notebook a second time\n",
    "diag_execute(cursor, 'DROP TABLE IF EXISTS movies, ratings, reviewers')"
   ]
  },
  {
   "cell_type": "code",
   "execution_count": 18,
   "id": "sixth-settlement",
   "metadata": {},
   "outputs": [],
   "source": [
    "# Queries to create data tables\n",
    "\n",
    "create_movies_table_query = \"\"\"\n",
    "CREATE TABLE IF NOT EXISTS movies(\n",
    "    id INT AUTO_INCREMENT PRIMARY KEY,\n",
    "    title VARCHAR(100),\n",
    "    release_year YEAR(4),\n",
    "    genre VARCHAR(100),\n",
    "    collection_in_mil INT\n",
    ")\n",
    "\"\"\";\n",
    "\n",
    "create_reviewers_table_query = \"\"\"\n",
    "CREATE TABLE IF NOT EXISTS reviewers (\n",
    "    id INT AUTO_INCREMENT PRIMARY KEY,\n",
    "    first_name VARCHAR(100),\n",
    "    last_name VARCHAR(100)\n",
    ")\n",
    "\"\"\";\n",
    "\n",
    "create_ratings_table_query = \"\"\"\n",
    "CREATE TABLE IF NOT EXISTS ratings (\n",
    "    movie_id INT,\n",
    "    reviewer_id INT,\n",
    "    rating DECIMAL(2,1),\n",
    "    FOREIGN KEY(movie_id) REFERENCES movies(id),\n",
    "    FOREIGN KEY(reviewer_id) REFERENCES reviewers(id),\n",
    "    PRIMARY KEY(movie_id, reviewer_id)\n",
    ")\n",
    "\"\"\";"
   ]
  },
  {
   "cell_type": "markdown",
   "id": "diverse-resolution",
   "metadata": {},
   "source": [
    "### Execute sql statements at the cursor\n",
    "\n",
    "* Make sure to commit() after your desired executions\n",
    "* You can loop through the cursor to see the last execution result\n",
    "```\n",
    " for row in cursor:\n",
    "     print(line)\n",
    "```\n",
    "* If you try to use the cursor while there are unread lines in its output, you get an error\n",
    "* It may be helpful to store cursor output to local variable with fetch all\n",
    "and then loop through the local variable\n",
    "```\n",
    "    result = cursor.fetchall()\n",
    "    for row in result:\n",
    "        print(row)\n",
    "```"
   ]
  },
  {
   "cell_type": "code",
   "execution_count": 19,
   "id": "altered-still",
   "metadata": {},
   "outputs": [],
   "source": [
    "# Add new table structures\n",
    "cursor.execute(create_movies_table_query)\n",
    "cursor.execute(create_reviewers_table_query)\n",
    "cursor.execute(create_ratings_table_query)\n",
    "connection.commit()"
   ]
  },
  {
   "cell_type": "code",
   "execution_count": 20,
   "id": "alive-witch",
   "metadata": {},
   "outputs": [
    {
     "name": "stdout",
     "output_type": "stream",
     "text": [
      "Executing: \"DESCRIBE movies\"\n",
      "\n",
      "Results of Execution:\n",
      "--------------------\n",
      "('id', b'int', 'NO', 'PRI', None, 'auto_increment')\n",
      "('title', b'varchar(100)', 'YES', '', None, '')\n",
      "('release_year', b'year', 'YES', '', None, '')\n",
      "('genre', b'varchar(100)', 'YES', '', None, '')\n",
      "('collection_in_mil', b'int', 'YES', '', None, '')\n",
      "\n"
     ]
    }
   ],
   "source": [
    "# Same as above, with some formating\n",
    "diag_execute(cursor, 'DESCRIBE movies')"
   ]
  },
  {
   "cell_type": "code",
   "execution_count": 21,
   "id": "lasting-providence",
   "metadata": {},
   "outputs": [],
   "source": [
    "# Alter a table field with a query\n",
    "alter_table_query = \"\"\"\n",
    "ALTER TABLE movies\n",
    "MODIFY COLUMN collection_in_mil DECIMAL(4,1)\n",
    "\"\"\";"
   ]
  },
  {
   "cell_type": "code",
   "execution_count": 22,
   "id": "injured-registration",
   "metadata": {},
   "outputs": [
    {
     "name": "stdout",
     "output_type": "stream",
     "text": [
      "Before the table alteration\n",
      "Executing: \"DESCRIBE movies\"\n",
      "\n",
      "Results of Execution:\n",
      "--------------------\n",
      "('id', b'int', 'NO', 'PRI', None, 'auto_increment')\n",
      "('title', b'varchar(100)', 'YES', '', None, '')\n",
      "('release_year', b'year', 'YES', '', None, '')\n",
      "('genre', b'varchar(100)', 'YES', '', None, '')\n",
      "('collection_in_mil', b'int', 'YES', '', None, '')\n",
      "\n",
      "Executing: \"\n",
      "ALTER TABLE movies\n",
      "MODIFY COLUMN collection_in_mil DECIMAL(4,1)\n",
      "\"\n",
      "\n",
      "Results of Execution:\n",
      "--------------------\n",
      "\n",
      "After the table alteration\n",
      "Executing: \"DESCRIBE movies\"\n",
      "\n",
      "Results of Execution:\n",
      "--------------------\n",
      "('id', b'int', 'NO', 'PRI', None, 'auto_increment')\n",
      "('title', b'varchar(100)', 'YES', '', None, '')\n",
      "('release_year', b'year', 'YES', '', None, '')\n",
      "('genre', b'varchar(100)', 'YES', '', None, '')\n",
      "('collection_in_mil', b'decimal(4,1)', 'YES', '', None, '')\n",
      "\n"
     ]
    }
   ],
   "source": [
    "print(f'Before the table alteration')\n",
    "diag_execute(cursor, 'DESCRIBE movies')\n",
    "diag_execute(cursor, alter_table_query)\n",
    "\n",
    "print(f'After the table alteration')\n",
    "diag_execute(cursor, 'DESCRIBE movies')"
   ]
  },
  {
   "cell_type": "markdown",
   "id": "private-length",
   "metadata": {},
   "source": [
    "## Populate the database with sample data\n",
    "* Use execute if you are including column names and data together\n",
    "* Use executemany if you are including a framework for subsequent executions"
   ]
  },
  {
   "cell_type": "code",
   "execution_count": 23,
   "id": "invalid-administration",
   "metadata": {},
   "outputs": [],
   "source": [
    "insert_movies_query = \"\"\"\n",
    "INSERT INTO movies (title, release_year, genre, collection_in_mil)\n",
    "VALUES\n",
    "    (\"Forrest Gump\", 1994, \"Drama\", 330.2),\n",
    "    (\"3 Idiots\", 2009, \"Drama\", 2.4),\n",
    "    (\"Eternal Sunshine of the Spotless Mind\", 2004, \"Drama\", 34.5),\n",
    "    (\"Good Will Hunting\", 1997, \"Drama\", 138.1),\n",
    "    (\"Skyfall\", 2012, \"Action\", 304.6),\n",
    "    (\"Gladiator\", 2000, \"Action\", 188.7),\n",
    "    (\"Black\", 2005, \"Drama\", 3.0),\n",
    "    (\"Titanic\", 1997, \"Romance\", 659.2),\n",
    "    (\"The Shawshank Redemption\", 1994, \"Drama\",28.4),\n",
    "    (\"Udaan\", 2010, \"Drama\", 1.5),\n",
    "    (\"Home Alone\", 1990, \"Comedy\", 286.9),\n",
    "    (\"Casablanca\", 1942, \"Romance\", 1.0),\n",
    "    (\"Avengers: Endgame\", 2019, \"Action\", 858.8),\n",
    "    (\"Night of the Living Dead\", 1968, \"Horror\", 2.5),\n",
    "    (\"The Godfather\", 1972, \"Crime\", 135.6),\n",
    "    (\"Haider\", 2014, \"Action\", 4.2),\n",
    "    (\"Inception\", 2010, \"Adventure\", 293.7),\n",
    "    (\"Evil\", 2003, \"Horror\", 1.3),\n",
    "    (\"Toy Story 4\", 2019, \"Animation\", 434.9),\n",
    "    (\"Air Force One\", 1997, \"Drama\", 138.1),\n",
    "    (\"The Dark Knight\", 2008, \"Action\",535.4),\n",
    "    (\"Bhaag Milkha Bhaag\", 2013, \"Sport\", 4.1),\n",
    "    (\"The Lion King\", 1994, \"Animation\", 423.6),\n",
    "    (\"Pulp Fiction\", 1994, \"Crime\", 108.8),\n",
    "    (\"Kai Po Che\", 2013, \"Sport\", 6.0),\n",
    "    (\"Beasts of No Nation\", 2015, \"War\", 1.4),\n",
    "    (\"Andadhun\", 2018, \"Thriller\", 2.9),\n",
    "    (\"The Silence of the Lambs\", 1991, \"Crime\", 68.2),\n",
    "    (\"Deadpool\", 2016, \"Action\", 363.6),\n",
    "    (\"Drishyam\", 2015, \"Mystery\", 3.0)\n",
    "\"\"\";"
   ]
  },
  {
   "cell_type": "code",
   "execution_count": 24,
   "id": "southwest-arkansas",
   "metadata": {},
   "outputs": [],
   "source": [
    "insert_reviewers_query = \"\"\"\n",
    "INSERT INTO reviewers\n",
    "(first_name, last_name)\n",
    "VALUES ( %s, %s )\n",
    "\"\"\"\n",
    "reviewers_records = [\n",
    "    (\"Chaitanya\", \"Baweja\"),\n",
    "    (\"Mary\", \"Cooper\"),\n",
    "    (\"John\", \"Wayne\"),\n",
    "    (\"Thomas\", \"Stoneman\"),\n",
    "    (\"Penny\", \"Hofstadter\"),\n",
    "    (\"Mitchell\", \"Marsh\"),\n",
    "    (\"Wyatt\", \"Skaggs\"),\n",
    "    (\"Andre\", \"Veiga\"),\n",
    "    (\"Sheldon\", \"Cooper\"),\n",
    "    (\"Kimbra\", \"Masters\"),\n",
    "    (\"Kat\", \"Dennings\"),\n",
    "    (\"Bruce\", \"Wayne\"),\n",
    "    (\"Domingo\", \"Cortes\"),\n",
    "    (\"Rajesh\", \"Koothrappali\"),\n",
    "    (\"Ben\", \"Glocker\"),\n",
    "    (\"Mahinder\", \"Dhoni\"),\n",
    "    (\"Akbar\", \"Khan\"),\n",
    "    (\"Howard\", \"Wolowitz\"),\n",
    "    (\"Pinkie\", \"Petit\"),\n",
    "    (\"Gurkaran\", \"Singh\"),\n",
    "    (\"Amy\", \"Farah Fowler\"),\n",
    "    (\"Marlon\", \"Crafford\"),\n",
    "];"
   ]
  },
  {
   "cell_type": "code",
   "execution_count": 25,
   "id": "homeless-dealing",
   "metadata": {},
   "outputs": [],
   "source": [
    "insert_ratings_query = \"\"\"\n",
    "INSERT INTO ratings\n",
    "(rating, movie_id, reviewer_id)\n",
    "VALUES ( %s, %s, %s)\n",
    "\"\"\"\n",
    "ratings_records = [\n",
    "    (6.4, 17, 5), (5.6, 19, 1), (6.3, 22, 14), (5.1, 21, 17),\n",
    "    (5.0, 5, 5), (6.5, 21, 5), (8.5, 30, 13), (9.7, 6, 4),\n",
    "    (8.5, 24, 12), (9.9, 14, 9), (8.7, 26, 14), (9.9, 6, 10),\n",
    "    (5.1, 30, 6), (5.4, 18, 16), (6.2, 6, 20), (7.3, 21, 19),\n",
    "    (8.1, 17, 18), (5.0, 7, 2), (9.8, 23, 3), (8.0, 22, 9),\n",
    "    (8.5, 11, 13), (5.0, 5, 11), (5.7, 8, 2), (7.6, 25, 19),\n",
    "    (5.2, 18, 15), (9.7, 13, 3), (5.8, 18, 8), (5.8, 30, 15),\n",
    "    (8.4, 21, 18), (6.2, 23, 16), (7.0, 10, 18), (9.5, 30, 20),\n",
    "    (8.9, 3, 19), (6.4, 12, 2), (7.8, 12, 22), (9.9, 15, 13),\n",
    "    (7.5, 20, 17), (9.0, 25, 6), (8.5, 23, 2), (5.3, 30, 17),\n",
    "    (6.4, 5, 10), (8.1, 5, 21), (5.7, 22, 1), (6.3, 28, 4),\n",
    "    (9.8, 13, 1)];"
   ]
  },
  {
   "cell_type": "code",
   "execution_count": 26,
   "id": "closed-devices",
   "metadata": {},
   "outputs": [],
   "source": [
    "cursor.execute(insert_movies_query)\n",
    "cursor.executemany(insert_reviewers_query, reviewers_records)\n",
    "cursor.executemany(insert_ratings_query, ratings_records)\n",
    "connection.commit()"
   ]
  },
  {
   "cell_type": "markdown",
   "id": "textile-archive",
   "metadata": {},
   "source": [
    "## Inspect the database"
   ]
  },
  {
   "cell_type": "code",
   "execution_count": 27,
   "id": "maritime-curve",
   "metadata": {},
   "outputs": [
    {
     "name": "stdout",
     "output_type": "stream",
     "text": [
      "Executing: \"SELECT * FROM movies LIMIT 0,5\"\n",
      "\n",
      "Results of Execution:\n",
      "--------------------\n",
      "(1, 'Forrest Gump', 1994, 'Drama', Decimal('330.2'))\n",
      "(2, '3 Idiots', 2009, 'Drama', Decimal('2.4'))\n",
      "(3, 'Eternal Sunshine of the Spotless Mind', 2004, 'Drama', Decimal('34.5'))\n",
      "(4, 'Good Will Hunting', 1997, 'Drama', Decimal('138.1'))\n",
      "(5, 'Skyfall', 2012, 'Action', Decimal('304.6'))\n",
      "\n"
     ]
    }
   ],
   "source": [
    "select_movies_query = \"SELECT * FROM movies LIMIT 0,5\"\n",
    "diag_execute(cursor, select_movies_query)"
   ]
  },
  {
   "cell_type": "code",
   "execution_count": 28,
   "id": "diagnostic-probability",
   "metadata": {},
   "outputs": [
    {
     "name": "stdout",
     "output_type": "stream",
     "text": [
      "Executing: \"SELECT * FROM movies LIMIT 5,5\"\n",
      "\n",
      "Results of Execution:\n",
      "--------------------\n",
      "(6, 'Gladiator', 2000, 'Action', Decimal('188.7'))\n",
      "(7, 'Black', 2005, 'Drama', Decimal('3.0'))\n",
      "(8, 'Titanic', 1997, 'Romance', Decimal('659.2'))\n",
      "(9, 'The Shawshank Redemption', 1994, 'Drama', Decimal('28.4'))\n",
      "(10, 'Udaan', 2010, 'Drama', Decimal('1.5'))\n",
      "\n"
     ]
    }
   ],
   "source": [
    "select_movies_query = \"SELECT * FROM movies LIMIT 5,5\"\n",
    "diag_execute(cursor, select_movies_query)"
   ]
  },
  {
   "cell_type": "code",
   "execution_count": 29,
   "id": "capable-continuity",
   "metadata": {},
   "outputs": [
    {
     "name": "stdout",
     "output_type": "stream",
     "text": [
      "Executing: \"SELECT * FROM movies LIMIT 5\"\n",
      "\n",
      "Results of Execution:\n",
      "--------------------\n",
      "(1, 'Forrest Gump', 1994, 'Drama', Decimal('330.2'))\n",
      "(2, '3 Idiots', 2009, 'Drama', Decimal('2.4'))\n",
      "(3, 'Eternal Sunshine of the Spotless Mind', 2004, 'Drama', Decimal('34.5'))\n",
      "(4, 'Good Will Hunting', 1997, 'Drama', Decimal('138.1'))\n",
      "(5, 'Skyfall', 2012, 'Action', Decimal('304.6'))\n",
      "\n"
     ]
    }
   ],
   "source": [
    "select_movies_query = \"SELECT * FROM movies LIMIT 5\"\n",
    "diag_execute(cursor, select_movies_query)"
   ]
  },
  {
   "cell_type": "code",
   "execution_count": 30,
   "id": "accepting-planet",
   "metadata": {},
   "outputs": [
    {
     "name": "stdout",
     "output_type": "stream",
     "text": [
      "Executing: \"\n",
      "SELECT title, collection_in_mil\n",
      "FROM movies\n",
      "WHERE collection_in_mil > 300\n",
      "ORDER BY collection_in_mil DESC\n",
      "\"\n",
      "\n",
      "Results of Execution:\n",
      "--------------------\n",
      "('Avengers: Endgame', Decimal('858.8'))\n",
      "('Titanic', Decimal('659.2'))\n",
      "('The Dark Knight', Decimal('535.4'))\n",
      "('Toy Story 4', Decimal('434.9'))\n",
      "('The Lion King', Decimal('423.6'))\n",
      "('Deadpool', Decimal('363.6'))\n",
      "('Forrest Gump', Decimal('330.2'))\n",
      "('Skyfall', Decimal('304.6'))\n",
      "\n"
     ]
    }
   ],
   "source": [
    "select_movies_query = \"\"\"\n",
    "SELECT title, collection_in_mil\n",
    "FROM movies\n",
    "WHERE collection_in_mil > 300\n",
    "ORDER BY collection_in_mil DESC\n",
    "\"\"\"\n",
    "diag_execute(cursor, select_movies_query)"
   ]
  },
  {
   "cell_type": "code",
   "execution_count": 31,
   "id": "fifth-basis",
   "metadata": {},
   "outputs": [
    {
     "name": "stdout",
     "output_type": "stream",
     "text": [
      "Executing: \"\n",
      "SELECT CONCAT(title, \" (\", release_year, \")\"),\n",
      "      collection_in_mil\n",
      "FROM movies\n",
      "ORDER BY collection_in_mil DESC\n",
      "LIMIT 5\n",
      "\"\n",
      "\n",
      "Results of Execution:\n",
      "--------------------\n",
      "('Avengers: Endgame (2019)', Decimal('858.8'))\n",
      "('Titanic (1997)', Decimal('659.2'))\n",
      "('The Dark Knight (2008)', Decimal('535.4'))\n",
      "('Toy Story 4 (2019)', Decimal('434.9'))\n",
      "('The Lion King (1994)', Decimal('423.6'))\n",
      "\n"
     ]
    }
   ],
   "source": [
    "select_movies_query = \"\"\"\n",
    "SELECT CONCAT(title, \" (\", release_year, \")\"),\n",
    "      collection_in_mil\n",
    "FROM movies\n",
    "ORDER BY collection_in_mil DESC\n",
    "LIMIT 5\n",
    "\"\"\"\n",
    "diag_execute(cursor, select_movies_query)"
   ]
  },
  {
   "cell_type": "code",
   "execution_count": 32,
   "id": "intensive-money",
   "metadata": {},
   "outputs": [
    {
     "name": "stdout",
     "output_type": "stream",
     "text": [
      "Executing: \"\n",
      "SELECT CONCAT(title, \" (\", release_year, \")\"),\n",
      "      collection_in_mil\n",
      "FROM movies\n",
      "ORDER BY collection_in_mil DESC\n",
      "\"\n",
      "\n",
      "Results of Execution:\n",
      "--------------------\n",
      "('Avengers: Endgame (2019)', Decimal('858.8'))\n",
      "('Titanic (1997)', Decimal('659.2'))\n",
      "('The Dark Knight (2008)', Decimal('535.4'))\n",
      "('Toy Story 4 (2019)', Decimal('434.9'))\n",
      "('The Lion King (1994)', Decimal('423.6'))\n",
      "('Deadpool (2016)', Decimal('363.6'))\n",
      "('Forrest Gump (1994)', Decimal('330.2'))\n",
      "('Skyfall (2012)', Decimal('304.6'))\n",
      "('Inception (2010)', Decimal('293.7'))\n",
      "('Home Alone (1990)', Decimal('286.9'))\n",
      "('Gladiator (2000)', Decimal('188.7'))\n",
      "('Good Will Hunting (1997)', Decimal('138.1'))\n",
      "('Air Force One (1997)', Decimal('138.1'))\n",
      "('The Godfather (1972)', Decimal('135.6'))\n",
      "('Pulp Fiction (1994)', Decimal('108.8'))\n",
      "('The Silence of the Lambs (1991)', Decimal('68.2'))\n",
      "('Eternal Sunshine of the Spotless Mind (2004)', Decimal('34.5'))\n",
      "('The Shawshank Redemption (1994)', Decimal('28.4'))\n",
      "('Kai Po Che (2013)', Decimal('6.0'))\n",
      "('Haider (2014)', Decimal('4.2'))\n",
      "('Bhaag Milkha Bhaag (2013)', Decimal('4.1'))\n",
      "('Black (2005)', Decimal('3.0'))\n",
      "('Drishyam (2015)', Decimal('3.0'))\n",
      "('Andadhun (2018)', Decimal('2.9'))\n",
      "('Night of the Living Dead (1968)', Decimal('2.5'))\n",
      "('3 Idiots (2009)', Decimal('2.4'))\n",
      "('Udaan (2010)', Decimal('1.5'))\n",
      "('Beasts of No Nation (2015)', Decimal('1.4'))\n",
      "('Evil (2003)', Decimal('1.3'))\n",
      "('Casablanca (1942)', Decimal('1.0'))\n",
      "\n"
     ]
    }
   ],
   "source": [
    "select_movies_query = \"\"\"\n",
    "SELECT CONCAT(title, \" (\", release_year, \")\"),\n",
    "      collection_in_mil\n",
    "FROM movies\n",
    "ORDER BY collection_in_mil DESC\n",
    "\"\"\"\n",
    "diag_execute(cursor, select_movies_query)"
   ]
  },
  {
   "cell_type": "code",
   "execution_count": 33,
   "id": "formed-timing",
   "metadata": {},
   "outputs": [
    {
     "name": "stdout",
     "output_type": "stream",
     "text": [
      "Executing: \"\n",
      "SELECT title, \n",
      "AVG(rating) as average_rating,\n",
      "COUNT(rating) as number_ratings\n",
      "FROM ratings\n",
      "LEFT JOIN movies\n",
      "    ON movies.id = ratings.movie_id\n",
      "GROUP BY movie_id\n",
      "ORDER BY average_rating DESC, title\n",
      "\"\n",
      "\n",
      "Results of Execution:\n",
      "--------------------\n",
      "('Night of the Living Dead', Decimal('9.90000'), 1)\n",
      "('The Godfather', Decimal('9.90000'), 1)\n",
      "('Avengers: Endgame', Decimal('9.75000'), 2)\n",
      "('Eternal Sunshine of the Spotless Mind', Decimal('8.90000'), 1)\n",
      "('Beasts of No Nation', Decimal('8.70000'), 1)\n",
      "('Gladiator', Decimal('8.60000'), 3)\n",
      "('Home Alone', Decimal('8.50000'), 1)\n",
      "('Pulp Fiction', Decimal('8.50000'), 1)\n",
      "('Kai Po Che', Decimal('8.30000'), 2)\n",
      "('The Lion King', Decimal('8.16667'), 3)\n",
      "('Air Force One', Decimal('7.50000'), 1)\n",
      "('Inception', Decimal('7.25000'), 2)\n",
      "('Casablanca', Decimal('7.10000'), 2)\n",
      "('Udaan', Decimal('7.00000'), 1)\n",
      "('Drishyam', Decimal('6.84000'), 5)\n",
      "('The Dark Knight', Decimal('6.82500'), 4)\n",
      "('Bhaag Milkha Bhaag', Decimal('6.66667'), 3)\n",
      "('The Silence of the Lambs', Decimal('6.30000'), 1)\n",
      "('Skyfall', Decimal('6.12500'), 4)\n",
      "('Titanic', Decimal('5.70000'), 1)\n",
      "('Toy Story 4', Decimal('5.60000'), 1)\n",
      "('Evil', Decimal('5.46667'), 3)\n",
      "('Black', Decimal('5.00000'), 1)\n",
      "\n"
     ]
    }
   ],
   "source": [
    "select_movies_query = \"\"\"\n",
    "SELECT title, \n",
    "AVG(rating) as average_rating,\n",
    "COUNT(rating) as number_ratings\n",
    "FROM ratings\n",
    "LEFT JOIN movies\n",
    "    ON movies.id = ratings.movie_id\n",
    "GROUP BY movie_id\n",
    "ORDER BY average_rating DESC, title\n",
    "\"\"\"\n",
    "diag_execute(cursor, select_movies_query)"
   ]
  },
  {
   "cell_type": "code",
   "execution_count": 34,
   "id": "associate-tomato",
   "metadata": {},
   "outputs": [
    {
     "name": "stdout",
     "output_type": "stream",
     "text": [
      "Executing: \"\n",
      "SELECT CONCAT(first_name, \" \", last_name), COUNT(rating) as num\n",
      "FROM reviewers\n",
      "INNER JOIN ratings\n",
      "    ON reviewers.id = ratings.reviewer_id\n",
      "GROUP BY reviewer_id\n",
      "ORDER BY num DESC\n",
      "\"\n",
      "\n",
      "Results of Execution:\n",
      "--------------------\n",
      "('Mary Cooper', 4)\n",
      "('Chaitanya Baweja', 3)\n",
      "('Penny Hofstadter', 3)\n",
      "('Domingo Cortes', 3)\n",
      "('Akbar Khan', 3)\n",
      "('Howard Wolowitz', 3)\n",
      "('Pinkie Petit', 3)\n",
      "('John Wayne', 2)\n",
      "('Thomas Stoneman', 2)\n",
      "('Mitchell Marsh', 2)\n",
      "('Sheldon Cooper', 2)\n",
      "('Kimbra Masters', 2)\n",
      "('Rajesh Koothrappali', 2)\n",
      "('Ben Glocker', 2)\n",
      "('Mahinder Dhoni', 2)\n",
      "('Gurkaran Singh', 2)\n",
      "('Andre Veiga', 1)\n",
      "('Kat Dennings', 1)\n",
      "('Bruce Wayne', 1)\n",
      "('Amy Farah Fowler', 1)\n",
      "('Marlon Crafford', 1)\n",
      "\n"
     ]
    }
   ],
   "source": [
    "select_movies_query = \"\"\"\n",
    "SELECT CONCAT(first_name, \" \", last_name), COUNT(rating) as num\n",
    "FROM reviewers\n",
    "INNER JOIN ratings\n",
    "    ON reviewers.id = ratings.reviewer_id\n",
    "GROUP BY reviewer_id\n",
    "ORDER BY num DESC\n",
    "\"\"\"\n",
    "diag_execute(cursor, select_movies_query)"
   ]
  },
  {
   "cell_type": "code",
   "execution_count": 35,
   "id": "funded-variety",
   "metadata": {},
   "outputs": [
    {
     "name": "stdout",
     "output_type": "stream",
     "text": [
      "Executing: \"\n",
      "UPDATE reviewers\n",
      "SET   last_name = \"Cooper\"\n",
      "WHERE first_name = \"Amy\"\n",
      "\"\n",
      "\n",
      "Results of Execution:\n",
      "--------------------\n",
      "\n"
     ]
    }
   ],
   "source": [
    "update_query = \"\"\"\n",
    "UPDATE reviewers\n",
    "SET   last_name = \"Cooper\"\n",
    "WHERE first_name = \"Amy\"\n",
    "\"\"\"\n",
    "diag_execute(cursor, update_query)"
   ]
  },
  {
   "cell_type": "code",
   "execution_count": null,
   "id": "selected-boston",
   "metadata": {},
   "outputs": [],
   "source": []
  }
 ],
 "metadata": {
  "kernelspec": {
   "display_name": "Python 3",
   "language": "python",
   "name": "python3"
  },
  "language_info": {
   "codemirror_mode": {
    "name": "ipython",
    "version": 3
   },
   "file_extension": ".py",
   "mimetype": "text/x-python",
   "name": "python",
   "nbconvert_exporter": "python",
   "pygments_lexer": "ipython3",
   "version": "3.8.8"
  }
 },
 "nbformat": 4,
 "nbformat_minor": 5
}
