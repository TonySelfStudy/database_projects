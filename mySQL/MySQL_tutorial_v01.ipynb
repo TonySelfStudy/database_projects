{
 "cells": [
  {
   "cell_type": "markdown",
   "id": "failing-insurance",
   "metadata": {},
   "source": [
    "# Python and MySQL Introduction\n",
    "## Tutorial & Notes\n",
    "* Created by: Tony Held (tony.held@gmail.com)  \n",
    "* Created on: 2021-03-10 \n",
    "* Source: https://realpython.com/python-mysql/"
   ]
  },
  {
   "cell_type": "code",
   "execution_count": 2,
   "id": "lyric-waters",
   "metadata": {},
   "outputs": [],
   "source": [
    "# **********************************************\n",
    "#     Jupyter Interactive Mode Settings\n",
    "# **********************************************\n",
    "from IPython.core.interactiveshell import InteractiveShell\n",
    "InteractiveShell.ast_node_interactivity = \"last_expr_or_assign\"\n",
    "\n",
    "# **********************************************\n",
    "#     Allows autocomplete to work properly\n",
    "# **********************************************\n",
    "%config Completer.use_jedi = False"
   ]
  },
  {
   "cell_type": "code",
   "execution_count": 3,
   "id": "endless-injury",
   "metadata": {},
   "outputs": [
    {
     "data": {
      "text/plain": [
       "<pprint.PrettyPrinter at 0x16025ae8b20>"
      ]
     },
     "execution_count": 3,
     "metadata": {},
     "output_type": "execute_result"
    }
   ],
   "source": [
    "import pprint\n",
    "pp = pprint.PrettyPrinter(indent=4)\n",
    "# usage pp.pprint(stuff)"
   ]
  },
  {
   "cell_type": "code",
   "execution_count": 4,
   "id": "driven-technique",
   "metadata": {},
   "outputs": [],
   "source": [
    "def values(var, exclude_starting_with=\"_\"):\n",
    "    \"\"\"Show variable attributes and values for diagnostic debugging purposes.\n",
    "    \n",
    "    Set exclude_starting_with to '' if you wish to include all attributes.\"\"\"\n",
    "    \n",
    "    print(f'Variable type: {type(var)}')\n",
    "    \n",
    "    if exclude_starting_with:\n",
    "        attrs = [i for i in dir(var) if not i.startswith(exclude_starting_with)]\n",
    "    else:\n",
    "        attrs = [i for i in dir(var)]\n",
    "            \n",
    "    for i in attrs:\n",
    "        print(f'\\n{i}:\\n{\"-\"*20}\\n{getattr(var, i)}')"
   ]
  },
  {
   "cell_type": "code",
   "execution_count": 5,
   "id": "peripheral-ethnic",
   "metadata": {},
   "outputs": [],
   "source": [
    "import mysql.connector"
   ]
  },
  {
   "cell_type": "code",
   "execution_count": 6,
   "id": "pharmaceutical-tyler",
   "metadata": {},
   "outputs": [
    {
     "name": "stdout",
     "output_type": "stream",
     "text": [
      "Enter username: tony\n",
      "Enter password: ········\n",
      "<mysql.connector.connection_cext.CMySQLConnection object at 0x0000016025ACF760>\n"
     ]
    }
   ],
   "source": [
    "from getpass import getpass\n",
    "from mysql.connector import connect, Error\n",
    "\n",
    "try:\n",
    "    with connect(\n",
    "        host=\"localhost\",\n",
    "        user=input(\"Enter username: \"),\n",
    "        password=getpass(\"Enter password: \"),\n",
    "    ) as connection:\n",
    "        print(connection)\n",
    "except Error as e:\n",
    "    print(e)"
   ]
  },
  {
   "cell_type": "code",
   "execution_count": 14,
   "id": "premier-qatar",
   "metadata": {},
   "outputs": [
    {
     "name": "stdout",
     "output_type": "stream",
     "text": [
      "Enter username: tony\n",
      "Enter password: ········\n",
      "<mysql.connector.connection_cext.CMySQLConnection object at 0x0000016025ADB280>\n"
     ]
    }
   ],
   "source": [
    "connection = connect(host=\"localhost\",\n",
    "                     user=input(\"Enter username: \"),\n",
    "                     password=getpass(\"Enter password: \"))\n",
    "print(connection)"
   ]
  },
  {
   "cell_type": "code",
   "execution_count": 15,
   "id": "dressed-performer",
   "metadata": {},
   "outputs": [
    {
     "data": {
      "text/plain": [
       "<mysql.connector.cursor_cext.CMySQLCursor at 0x16025daf4c0>"
      ]
     },
     "execution_count": 15,
     "metadata": {},
     "output_type": "execute_result"
    }
   ],
   "source": [
    "cursor = connection.cursor()"
   ]
  },
  {
   "cell_type": "code",
   "execution_count": 16,
   "id": "designing-writing",
   "metadata": {},
   "outputs": [
    {
     "data": {
      "text/plain": [
       "'CREATE DATABASE online_movie_rating'"
      ]
     },
     "execution_count": 16,
     "metadata": {},
     "output_type": "execute_result"
    }
   ],
   "source": [
    "create_db_query = \"CREATE DATABASE online_movie_rating\""
   ]
  },
  {
   "cell_type": "code",
   "execution_count": 17,
   "id": "human-safety",
   "metadata": {},
   "outputs": [],
   "source": [
    "cursor.execute(create_db_query)"
   ]
  },
  {
   "cell_type": "code",
   "execution_count": 18,
   "id": "welsh-seeker",
   "metadata": {},
   "outputs": [
    {
     "data": {
      "text/plain": [
       "'SHOW DATABASES'"
      ]
     },
     "execution_count": 18,
     "metadata": {},
     "output_type": "execute_result"
    }
   ],
   "source": [
    "show_db_query = \"SHOW DATABASES\""
   ]
  },
  {
   "cell_type": "code",
   "execution_count": 21,
   "id": "female-shelter",
   "metadata": {},
   "outputs": [],
   "source": [
    "cursor.execute(show_db_query)"
   ]
  },
  {
   "cell_type": "code",
   "execution_count": 22,
   "id": "indoor-fields",
   "metadata": {},
   "outputs": [
    {
     "name": "stdout",
     "output_type": "stream",
     "text": [
      "('information_schema',)\n",
      "('mysql',)\n",
      "('online_movie_rating',)\n",
      "('performance_schema',)\n",
      "('sys',)\n"
     ]
    }
   ],
   "source": [
    "for db in cursor:\n",
    "    print(db)"
   ]
  },
  {
   "cell_type": "code",
   "execution_count": 23,
   "id": "medical-leeds",
   "metadata": {},
   "outputs": [
    {
     "name": "stdout",
     "output_type": "stream",
     "text": [
      "CMySQLCursor: SHOW DATABASES\n"
     ]
    }
   ],
   "source": [
    "print(cursor)"
   ]
  },
  {
   "cell_type": "code",
   "execution_count": 24,
   "id": "detected-department",
   "metadata": {
    "collapsed": true
   },
   "outputs": [
    {
     "name": "stdout",
     "output_type": "stream",
     "text": [
      "Variable type: <class 'mysql.connector.cursor_cext.CMySQLCursor'>\n",
      "\n",
      "arraysize:\n",
      "--------------------\n",
      "1\n",
      "\n",
      "callproc:\n",
      "--------------------\n",
      "<bound method CMySQLCursor.callproc of <mysql.connector.cursor_cext.CMySQLCursor object at 0x0000016025DAF4C0>>\n",
      "\n",
      "close:\n",
      "--------------------\n",
      "<bound method CMySQLCursor.close of <mysql.connector.cursor_cext.CMySQLCursor object at 0x0000016025DAF4C0>>\n",
      "\n",
      "column_names:\n",
      "--------------------\n",
      "('Database',)\n",
      "\n",
      "description:\n",
      "--------------------\n",
      "[('Database', 253, None, None, None, None, 1, 0)]\n",
      "\n",
      "execute:\n",
      "--------------------\n",
      "<bound method CMySQLCursor.execute of <mysql.connector.cursor_cext.CMySQLCursor object at 0x0000016025DAF4C0>>\n",
      "\n",
      "executemany:\n",
      "--------------------\n",
      "<bound method CMySQLCursor.executemany of <mysql.connector.cursor_cext.CMySQLCursor object at 0x0000016025DAF4C0>>\n",
      "\n",
      "fetchall:\n",
      "--------------------\n",
      "<bound method CMySQLCursor.fetchall of <mysql.connector.cursor_cext.CMySQLCursor object at 0x0000016025DAF4C0>>\n",
      "\n",
      "fetchmany:\n",
      "--------------------\n",
      "<bound method CMySQLCursor.fetchmany of <mysql.connector.cursor_cext.CMySQLCursor object at 0x0000016025DAF4C0>>\n",
      "\n",
      "fetchone:\n",
      "--------------------\n",
      "<bound method CMySQLCursor.fetchone of <mysql.connector.cursor_cext.CMySQLCursor object at 0x0000016025DAF4C0>>\n",
      "\n",
      "fetchwarnings:\n",
      "--------------------\n",
      "<bound method MySQLCursorAbstract.fetchwarnings of <mysql.connector.cursor_cext.CMySQLCursor object at 0x0000016025DAF4C0>>\n",
      "\n",
      "lastrowid:\n",
      "--------------------\n",
      "0\n",
      "\n",
      "nextset:\n",
      "--------------------\n",
      "<bound method CMySQLCursor.nextset of <mysql.connector.cursor_cext.CMySQLCursor object at 0x0000016025DAF4C0>>\n",
      "\n",
      "reset:\n",
      "--------------------\n",
      "<bound method CMySQLCursor.reset of <mysql.connector.cursor_cext.CMySQLCursor object at 0x0000016025DAF4C0>>\n",
      "\n",
      "rowcount:\n",
      "--------------------\n",
      "5\n",
      "\n",
      "setinputsizes:\n",
      "--------------------\n",
      "<bound method MySQLCursorAbstract.setinputsizes of <mysql.connector.cursor_cext.CMySQLCursor object at 0x0000016025DAF4C0>>\n",
      "\n",
      "setoutputsize:\n",
      "--------------------\n",
      "<bound method MySQLCursorAbstract.setoutputsize of <mysql.connector.cursor_cext.CMySQLCursor object at 0x0000016025DAF4C0>>\n",
      "\n",
      "statement:\n",
      "--------------------\n",
      "SHOW DATABASES\n",
      "\n",
      "stored_results:\n",
      "--------------------\n",
      "<bound method CMySQLCursor.stored_results of <mysql.connector.cursor_cext.CMySQLCursor object at 0x0000016025DAF4C0>>\n",
      "\n",
      "with_rows:\n",
      "--------------------\n",
      "True\n"
     ]
    }
   ],
   "source": [
    "values(cursor)"
   ]
  },
  {
   "cell_type": "code",
   "execution_count": 25,
   "id": "powered-trial",
   "metadata": {},
   "outputs": [],
   "source": [
    "connection.close()"
   ]
  },
  {
   "cell_type": "code",
   "execution_count": 58,
   "id": "persistent-handle",
   "metadata": {},
   "outputs": [
    {
     "name": "stdout",
     "output_type": "stream",
     "text": [
      "Enter username: tony\n",
      "Enter password: ········\n"
     ]
    },
    {
     "data": {
      "text/plain": [
       "<mysql.connector.connection_cext.CMySQLConnection at 0x16025ae86d0>"
      ]
     },
     "execution_count": 58,
     "metadata": {},
     "output_type": "execute_result"
    }
   ],
   "source": [
    "connection = connect(host=\"localhost\",\n",
    "                     user=input(\"Enter username: \"),\n",
    "                     password=getpass(\"Enter password: \"),\n",
    "                     database=\"online_movie_rating\")"
   ]
  },
  {
   "cell_type": "code",
   "execution_count": 27,
   "id": "basic-lawrence",
   "metadata": {},
   "outputs": [
    {
     "data": {
      "text/plain": [
       "'\\nCREATE TABLE movies(\\n    id INT AUTO_INCREMENT PRIMARY KEY,\\n    title VARCHAR(100),\\n    release_year YEAR(4),\\n    genre VARCHAR(100),\\n    collection_in_mil INT\\n)\\n'"
      ]
     },
     "execution_count": 27,
     "metadata": {},
     "output_type": "execute_result"
    }
   ],
   "source": [
    "create_movies_table_query = \"\"\"\n",
    "CREATE TABLE movies(\n",
    "    id INT AUTO_INCREMENT PRIMARY KEY,\n",
    "    title VARCHAR(100),\n",
    "    release_year YEAR(4),\n",
    "    genre VARCHAR(100),\n",
    "    collection_in_mil INT\n",
    ")\n",
    "\"\"\""
   ]
  },
  {
   "cell_type": "code",
   "execution_count": 29,
   "id": "aging-cholesterol",
   "metadata": {},
   "outputs": [],
   "source": [
    "with connection.cursor() as cursor:\n",
    "    cursor.execute(create_movies_table_query)\n",
    "    connection.commit()"
   ]
  },
  {
   "cell_type": "code",
   "execution_count": 30,
   "id": "major-hardware",
   "metadata": {},
   "outputs": [],
   "source": [
    "create_reviewers_table_query = \"\"\"\n",
    "CREATE TABLE reviewers (\n",
    "    id INT AUTO_INCREMENT PRIMARY KEY,\n",
    "    first_name VARCHAR(100),\n",
    "    last_name VARCHAR(100)\n",
    ")\n",
    "\"\"\"\n",
    "with connection.cursor() as cursor:\n",
    "    cursor.execute(create_reviewers_table_query)\n",
    "    connection.commit()"
   ]
  },
  {
   "cell_type": "code",
   "execution_count": 31,
   "id": "russian-blood",
   "metadata": {},
   "outputs": [],
   "source": [
    "create_ratings_table_query = \"\"\"\n",
    "CREATE TABLE ratings (\n",
    "    movie_id INT,\n",
    "    reviewer_id INT,\n",
    "    rating DECIMAL(2,1),\n",
    "    FOREIGN KEY(movie_id) REFERENCES movies(id),\n",
    "    FOREIGN KEY(reviewer_id) REFERENCES reviewers(id),\n",
    "    PRIMARY KEY(movie_id, reviewer_id)\n",
    ")\n",
    "\"\"\"\n",
    "with connection.cursor() as cursor:\n",
    "    cursor.execute(create_ratings_table_query)\n",
    "    connection.commit()"
   ]
  },
  {
   "cell_type": "code",
   "execution_count": 59,
   "id": "light-greece",
   "metadata": {},
   "outputs": [
    {
     "data": {
      "text/plain": [
       "'DESCRIBE movies'"
      ]
     },
     "execution_count": 59,
     "metadata": {},
     "output_type": "execute_result"
    }
   ],
   "source": [
    "show_table_query = \"DESCRIBE movies\""
   ]
  },
  {
   "cell_type": "code",
   "execution_count": 60,
   "id": "finnish-launch",
   "metadata": {},
   "outputs": [
    {
     "name": "stdout",
     "output_type": "stream",
     "text": [
      "('id', b'int', 'NO', 'PRI', None, 'auto_increment')\n",
      "('title', b'varchar(100)', 'YES', '', None, '')\n",
      "('release_year', b'year', 'YES', '', None, '')\n",
      "('genre', b'varchar(100)', 'YES', '', None, '')\n",
      "('collection_in_mil', b'decimal(4,1)', 'YES', '', None, '')\n"
     ]
    }
   ],
   "source": [
    "with connection.cursor() as cursor:\n",
    "    cursor.execute(show_table_query)\n",
    "    # Fetch rows from last executed query\n",
    "    result = cursor.fetchall()\n",
    "    for row in result:\n",
    "        print(row)"
   ]
  },
  {
   "cell_type": "code",
   "execution_count": 35,
   "id": "contemporary-cartoon",
   "metadata": {},
   "outputs": [
    {
     "data": {
      "text/plain": [
       "'DESCRIBE movies'"
      ]
     },
     "execution_count": 35,
     "metadata": {},
     "output_type": "execute_result"
    }
   ],
   "source": [
    "alter_table_query = \"\"\"\n",
    "ALTER TABLE movies\n",
    "MODIFY COLUMN collection_in_mil DECIMAL(4,1)\n",
    "\"\"\"\n",
    "show_table_query = \"DESCRIBE movies\""
   ]
  },
  {
   "cell_type": "code",
   "execution_count": 36,
   "id": "three-requirement",
   "metadata": {},
   "outputs": [
    {
     "name": "stdout",
     "output_type": "stream",
     "text": [
      "Movie Table Schema after alteration:\n",
      "('id', b'int', 'NO', 'PRI', None, 'auto_increment')\n",
      "('title', b'varchar(100)', 'YES', '', None, '')\n",
      "('release_year', b'year', 'YES', '', None, '')\n",
      "('genre', b'varchar(100)', 'YES', '', None, '')\n",
      "('collection_in_mil', b'decimal(4,1)', 'YES', '', None, '')\n"
     ]
    }
   ],
   "source": [
    "with connection.cursor() as cursor:\n",
    "    cursor.execute(alter_table_query)\n",
    "    cursor.execute(show_table_query)\n",
    "    # Fetch rows from last executed query\n",
    "    result = cursor.fetchall()\n",
    "    print(\"Movie Table Schema after alteration:\")\n",
    "    for row in result:\n",
    "        print(row)"
   ]
  },
  {
   "cell_type": "code",
   "execution_count": 38,
   "id": "initial-reggae",
   "metadata": {},
   "outputs": [],
   "source": [
    "insert_movies_query = \"\"\"\n",
    "INSERT INTO movies (title, release_year, genre, collection_in_mil)\n",
    "VALUES\n",
    "    (\"Forrest Gump\", 1994, \"Drama\", 330.2),\n",
    "    (\"3 Idiots\", 2009, \"Drama\", 2.4),\n",
    "    (\"Eternal Sunshine of the Spotless Mind\", 2004, \"Drama\", 34.5),\n",
    "    (\"Good Will Hunting\", 1997, \"Drama\", 138.1),\n",
    "    (\"Skyfall\", 2012, \"Action\", 304.6),\n",
    "    (\"Gladiator\", 2000, \"Action\", 188.7),\n",
    "    (\"Black\", 2005, \"Drama\", 3.0),\n",
    "    (\"Titanic\", 1997, \"Romance\", 659.2),\n",
    "    (\"The Shawshank Redemption\", 1994, \"Drama\",28.4),\n",
    "    (\"Udaan\", 2010, \"Drama\", 1.5),\n",
    "    (\"Home Alone\", 1990, \"Comedy\", 286.9),\n",
    "    (\"Casablanca\", 1942, \"Romance\", 1.0),\n",
    "    (\"Avengers: Endgame\", 2019, \"Action\", 858.8),\n",
    "    (\"Night of the Living Dead\", 1968, \"Horror\", 2.5),\n",
    "    (\"The Godfather\", 1972, \"Crime\", 135.6),\n",
    "    (\"Haider\", 2014, \"Action\", 4.2),\n",
    "    (\"Inception\", 2010, \"Adventure\", 293.7),\n",
    "    (\"Evil\", 2003, \"Horror\", 1.3),\n",
    "    (\"Toy Story 4\", 2019, \"Animation\", 434.9),\n",
    "    (\"Air Force One\", 1997, \"Drama\", 138.1),\n",
    "    (\"The Dark Knight\", 2008, \"Action\",535.4),\n",
    "    (\"Bhaag Milkha Bhaag\", 2013, \"Sport\", 4.1),\n",
    "    (\"The Lion King\", 1994, \"Animation\", 423.6),\n",
    "    (\"Pulp Fiction\", 1994, \"Crime\", 108.8),\n",
    "    (\"Kai Po Che\", 2013, \"Sport\", 6.0),\n",
    "    (\"Beasts of No Nation\", 2015, \"War\", 1.4),\n",
    "    (\"Andadhun\", 2018, \"Thriller\", 2.9),\n",
    "    (\"The Silence of the Lambs\", 1991, \"Crime\", 68.2),\n",
    "    (\"Deadpool\", 2016, \"Action\", 363.6),\n",
    "    (\"Drishyam\", 2015, \"Mystery\", 3.0)\n",
    "\"\"\";"
   ]
  },
  {
   "cell_type": "code",
   "execution_count": 39,
   "id": "opposite-cholesterol",
   "metadata": {},
   "outputs": [],
   "source": [
    "with connection.cursor() as cursor:\n",
    "    cursor.execute(insert_movies_query)\n",
    "    connection.commit()"
   ]
  },
  {
   "cell_type": "code",
   "execution_count": 40,
   "id": "numerical-somewhere",
   "metadata": {},
   "outputs": [],
   "source": [
    "insert_reviewers_query = \"\"\"\n",
    "INSERT INTO reviewers\n",
    "(first_name, last_name)\n",
    "VALUES ( %s, %s )\n",
    "\"\"\"\n",
    "reviewers_records = [\n",
    "    (\"Chaitanya\", \"Baweja\"),\n",
    "    (\"Mary\", \"Cooper\"),\n",
    "    (\"John\", \"Wayne\"),\n",
    "    (\"Thomas\", \"Stoneman\"),\n",
    "    (\"Penny\", \"Hofstadter\"),\n",
    "    (\"Mitchell\", \"Marsh\"),\n",
    "    (\"Wyatt\", \"Skaggs\"),\n",
    "    (\"Andre\", \"Veiga\"),\n",
    "    (\"Sheldon\", \"Cooper\"),\n",
    "    (\"Kimbra\", \"Masters\"),\n",
    "    (\"Kat\", \"Dennings\"),\n",
    "    (\"Bruce\", \"Wayne\"),\n",
    "    (\"Domingo\", \"Cortes\"),\n",
    "    (\"Rajesh\", \"Koothrappali\"),\n",
    "    (\"Ben\", \"Glocker\"),\n",
    "    (\"Mahinder\", \"Dhoni\"),\n",
    "    (\"Akbar\", \"Khan\"),\n",
    "    (\"Howard\", \"Wolowitz\"),\n",
    "    (\"Pinkie\", \"Petit\"),\n",
    "    (\"Gurkaran\", \"Singh\"),\n",
    "    (\"Amy\", \"Farah Fowler\"),\n",
    "    (\"Marlon\", \"Crafford\"),\n",
    "];"
   ]
  },
  {
   "cell_type": "code",
   "execution_count": 41,
   "id": "measured-comment",
   "metadata": {},
   "outputs": [],
   "source": [
    "with connection.cursor() as cursor:\n",
    "    cursor.executemany(insert_reviewers_query, reviewers_records)\n",
    "    connection.commit()"
   ]
  },
  {
   "cell_type": "code",
   "execution_count": 42,
   "id": "guilty-variety",
   "metadata": {},
   "outputs": [],
   "source": [
    "insert_ratings_query = \"\"\"\n",
    "INSERT INTO ratings\n",
    "(rating, movie_id, reviewer_id)\n",
    "VALUES ( %s, %s, %s)\n",
    "\"\"\"\n",
    "ratings_records = [\n",
    "    (6.4, 17, 5), (5.6, 19, 1), (6.3, 22, 14), (5.1, 21, 17),\n",
    "    (5.0, 5, 5), (6.5, 21, 5), (8.5, 30, 13), (9.7, 6, 4),\n",
    "    (8.5, 24, 12), (9.9, 14, 9), (8.7, 26, 14), (9.9, 6, 10),\n",
    "    (5.1, 30, 6), (5.4, 18, 16), (6.2, 6, 20), (7.3, 21, 19),\n",
    "    (8.1, 17, 18), (5.0, 7, 2), (9.8, 23, 3), (8.0, 22, 9),\n",
    "    (8.5, 11, 13), (5.0, 5, 11), (5.7, 8, 2), (7.6, 25, 19),\n",
    "    (5.2, 18, 15), (9.7, 13, 3), (5.8, 18, 8), (5.8, 30, 15),\n",
    "    (8.4, 21, 18), (6.2, 23, 16), (7.0, 10, 18), (9.5, 30, 20),\n",
    "    (8.9, 3, 19), (6.4, 12, 2), (7.8, 12, 22), (9.9, 15, 13),\n",
    "    (7.5, 20, 17), (9.0, 25, 6), (8.5, 23, 2), (5.3, 30, 17),\n",
    "    (6.4, 5, 10), (8.1, 5, 21), (5.7, 22, 1), (6.3, 28, 4),\n",
    "    (9.8, 13, 1)\n",
    "]\n",
    "with connection.cursor() as cursor:\n",
    "    cursor.executemany(insert_ratings_query, ratings_records)\n",
    "    connection.commit()"
   ]
  },
  {
   "cell_type": "code",
   "execution_count": 61,
   "id": "adjusted-dominican",
   "metadata": {},
   "outputs": [
    {
     "name": "stdout",
     "output_type": "stream",
     "text": [
      "(1, 'Forrest Gump', 1994, 'Drama', Decimal('330.2'))\n",
      "(2, '3 Idiots', 2009, 'Drama', Decimal('2.4'))\n",
      "(3, 'Eternal Sunshine of the Spotless Mind', 2004, 'Drama', Decimal('34.5'))\n",
      "(4, 'Good Will Hunting', 1997, 'Drama', Decimal('138.1'))\n",
      "(5, 'Skyfall', 2012, 'Action', Decimal('304.6'))\n"
     ]
    }
   ],
   "source": [
    "select_movies_query = \"SELECT * FROM movies LIMIT 0,5\"\n",
    "with connection.cursor() as cursor:\n",
    "    cursor.execute(select_movies_query)\n",
    "    result = cursor.fetchall()\n",
    "    for row in result:\n",
    "        print(row)"
   ]
  },
  {
   "cell_type": "code",
   "execution_count": 62,
   "id": "linear-dream",
   "metadata": {},
   "outputs": [
    {
     "name": "stdout",
     "output_type": "stream",
     "text": [
      "(6, 'Gladiator', 2000, 'Action', Decimal('188.7'))\n",
      "(7, 'Black', 2005, 'Drama', Decimal('3.0'))\n",
      "(8, 'Titanic', 1997, 'Romance', Decimal('659.2'))\n",
      "(9, 'The Shawshank Redemption', 1994, 'Drama', Decimal('28.4'))\n",
      "(10, 'Udaan', 2010, 'Drama', Decimal('1.5'))\n"
     ]
    }
   ],
   "source": [
    "select_movies_query = \"SELECT * FROM movies LIMIT 5,5\"\n",
    "with connection.cursor() as cursor:\n",
    "    cursor.execute(select_movies_query)\n",
    "    result = cursor.fetchall()\n",
    "    for row in result:\n",
    "        print(row)"
   ]
  },
  {
   "cell_type": "code",
   "execution_count": 63,
   "id": "listed-machine",
   "metadata": {},
   "outputs": [
    {
     "name": "stdout",
     "output_type": "stream",
     "text": [
      "('Forrest Gump', 1994)\n",
      "('3 Idiots', 2009)\n",
      "('Eternal Sunshine of the Spotless Mind', 2004)\n",
      "('Good Will Hunting', 1997)\n",
      "('Skyfall', 2012)\n"
     ]
    }
   ],
   "source": [
    "select_movies_query = \"SELECT title, release_year FROM movies LIMIT 5\"\n",
    "with connection.cursor() as cursor:\n",
    "    cursor.execute(select_movies_query)\n",
    "    result = cursor.fetchall()\n",
    "    for row in result:\n",
    "        print(row)"
   ]
  },
  {
   "cell_type": "code",
   "execution_count": 64,
   "id": "specified-chrome",
   "metadata": {},
   "outputs": [
    {
     "name": "stdout",
     "output_type": "stream",
     "text": [
      "('Avengers: Endgame', Decimal('858.8'))\n",
      "('Titanic', Decimal('659.2'))\n",
      "('The Dark Knight', Decimal('535.4'))\n",
      "('Toy Story 4', Decimal('434.9'))\n",
      "('The Lion King', Decimal('423.6'))\n",
      "('Deadpool', Decimal('363.6'))\n",
      "('Forrest Gump', Decimal('330.2'))\n",
      "('Skyfall', Decimal('304.6'))\n"
     ]
    }
   ],
   "source": [
    "select_movies_query = \"\"\"\n",
    "SELECT title, collection_in_mil\n",
    "FROM movies\n",
    "WHERE collection_in_mil > 300\n",
    "ORDER BY collection_in_mil DESC\n",
    "\"\"\"\n",
    "with connection.cursor() as cursor:\n",
    "    cursor.execute(select_movies_query)\n",
    "    for movie in cursor.fetchall():\n",
    "        print(movie)"
   ]
  },
  {
   "cell_type": "code",
   "execution_count": 67,
   "id": "incoming-metabolism",
   "metadata": {},
   "outputs": [
    {
     "name": "stdout",
     "output_type": "stream",
     "text": [
      "('Avengers: Endgame (2019)', Decimal('858.8'))\n",
      "('Titanic (1997)', Decimal('659.2'))\n",
      "('The Dark Knight (2008)', Decimal('535.4'))\n",
      "('Toy Story 4 (2019)', Decimal('434.9'))\n",
      "('The Lion King (1994)', Decimal('423.6'))\n"
     ]
    }
   ],
   "source": [
    "select_movies_query = \"\"\"\n",
    "SELECT CONCAT(title, \" (\", release_year, \")\"),\n",
    "      collection_in_mil\n",
    "FROM movies\n",
    "ORDER BY collection_in_mil DESC\n",
    "LIMIT 5\n",
    "\"\"\"\n",
    "with connection.cursor() as cursor:\n",
    "    cursor.execute(select_movies_query)\n",
    "    for movie in cursor.fetchall():\n",
    "        print(movie)"
   ]
  },
  {
   "cell_type": "code",
   "execution_count": 66,
   "id": "finite-nitrogen",
   "metadata": {},
   "outputs": [
    {
     "name": "stdout",
     "output_type": "stream",
     "text": [
      "('Avengers: Endgame (2019)', Decimal('858.8'))\n",
      "('Titanic (1997)', Decimal('659.2'))\n",
      "('The Dark Knight (2008)', Decimal('535.4'))\n",
      "('Toy Story 4 (2019)', Decimal('434.9'))\n",
      "('The Lion King (1994)', Decimal('423.6'))\n"
     ]
    }
   ],
   "source": [
    "select_movies_query = \"\"\"\n",
    "SELECT CONCAT(title, \" (\", release_year, \")\"),\n",
    "      collection_in_mil\n",
    "FROM movies\n",
    "ORDER BY collection_in_mil DESC\n",
    "\"\"\"\n",
    "with connection.cursor() as cursor:\n",
    "    cursor.execute(select_movies_query)\n",
    "    for movie in cursor.fetchmany(size=5):\n",
    "        print(movie)\n",
    "    cursor.fetchall()"
   ]
  },
  {
   "cell_type": "code",
   "execution_count": 77,
   "id": "legitimate-paint",
   "metadata": {},
   "outputs": [
    {
     "name": "stdout",
     "output_type": "stream",
     "text": [
      "('Night of the Living Dead', Decimal('9.90000'), 1)\n",
      "('The Godfather', Decimal('9.90000'), 1)\n",
      "('Avengers: Endgame', Decimal('9.75000'), 2)\n",
      "('Eternal Sunshine of the Spotless Mind', Decimal('8.90000'), 1)\n",
      "('Beasts of No Nation', Decimal('8.70000'), 1)\n",
      "('Gladiator', Decimal('8.60000'), 3)\n",
      "('Home Alone', Decimal('8.50000'), 1)\n",
      "('Pulp Fiction', Decimal('8.50000'), 1)\n",
      "('Kai Po Che', Decimal('8.30000'), 2)\n",
      "('The Lion King', Decimal('8.16667'), 3)\n",
      "('Air Force One', Decimal('7.50000'), 1)\n",
      "('Inception', Decimal('7.25000'), 2)\n",
      "('Casablanca', Decimal('7.10000'), 2)\n",
      "('Udaan', Decimal('7.00000'), 1)\n",
      "('Drishyam', Decimal('6.84000'), 5)\n",
      "('The Dark Knight', Decimal('6.82500'), 4)\n",
      "('Bhaag Milkha Bhaag', Decimal('6.66667'), 3)\n",
      "('The Silence of the Lambs', Decimal('6.30000'), 1)\n",
      "('Skyfall', Decimal('6.12500'), 4)\n",
      "('Titanic', Decimal('5.70000'), 1)\n",
      "('Toy Story 4', Decimal('5.60000'), 1)\n",
      "('Evil', Decimal('5.46667'), 3)\n",
      "('Black', Decimal('5.00000'), 1)\n"
     ]
    }
   ],
   "source": [
    "select_movies_query = \"\"\"\n",
    "SELECT title, \n",
    "AVG(rating) as average_rating,\n",
    "COUNT(rating) as number_ratings\n",
    "FROM ratings\n",
    "LEFT JOIN movies\n",
    "    ON movies.id = ratings.movie_id\n",
    "GROUP BY movie_id\n",
    "ORDER BY average_rating DESC, title\n",
    "\"\"\"\n",
    "with connection.cursor() as cursor:\n",
    "    cursor.execute(select_movies_query)\n",
    "    for movie in cursor.fetchall():\n",
    "        print(movie)"
   ]
  },
  {
   "cell_type": "code",
   "execution_count": 79,
   "id": "ranking-superintendent",
   "metadata": {},
   "outputs": [
    {
     "name": "stdout",
     "output_type": "stream",
     "text": [
      "('Mary Cooper', 4)\n",
      "('Chaitanya Baweja', 3)\n",
      "('Penny Hofstadter', 3)\n",
      "('Domingo Cortes', 3)\n",
      "('Akbar Khan', 3)\n",
      "('Howard Wolowitz', 3)\n",
      "('Pinkie Petit', 3)\n",
      "('John Wayne', 2)\n",
      "('Thomas Stoneman', 2)\n",
      "('Mitchell Marsh', 2)\n",
      "('Sheldon Cooper', 2)\n",
      "('Kimbra Masters', 2)\n",
      "('Rajesh Koothrappali', 2)\n",
      "('Ben Glocker', 2)\n",
      "('Mahinder Dhoni', 2)\n",
      "('Gurkaran Singh', 2)\n",
      "('Andre Veiga', 1)\n",
      "('Kat Dennings', 1)\n",
      "('Bruce Wayne', 1)\n",
      "('Amy Farah Fowler', 1)\n",
      "('Marlon Crafford', 1)\n"
     ]
    }
   ],
   "source": [
    "select_movies_query = \"\"\"\n",
    "SELECT CONCAT(first_name, \" \", last_name), COUNT(rating) as num\n",
    "FROM reviewers\n",
    "INNER JOIN ratings\n",
    "    ON reviewers.id = ratings.reviewer_id\n",
    "GROUP BY reviewer_id\n",
    "ORDER BY num DESC\n",
    "\"\"\"\n",
    "with connection.cursor() as cursor:\n",
    "    cursor.execute(select_movies_query)\n",
    "    for movie in cursor.fetchall():\n",
    "        print(movie)\n"
   ]
  },
  {
   "cell_type": "code",
   "execution_count": 80,
   "id": "specified-minneapolis",
   "metadata": {},
   "outputs": [],
   "source": [
    "update_query = \"\"\"\n",
    "UPDATE reviewers\n",
    "SET   last_name = \"Cooper\"\n",
    "WHERE first_name = \"Amy\"\n",
    "\"\"\"\n",
    "with connection.cursor() as cursor:\n",
    "    cursor.execute(update_query)\n",
    "    connection.commit()"
   ]
  },
  {
   "cell_type": "code",
   "execution_count": null,
   "id": "optimum-debut",
   "metadata": {},
   "outputs": [],
   "source": []
  }
 ],
 "metadata": {
  "kernelspec": {
   "display_name": "Python 3",
   "language": "python",
   "name": "python3"
  },
  "language_info": {
   "codemirror_mode": {
    "name": "ipython",
    "version": 3
   },
   "file_extension": ".py",
   "mimetype": "text/x-python",
   "name": "python",
   "nbconvert_exporter": "python",
   "pygments_lexer": "ipython3",
   "version": "3.8.8"
  }
 },
 "nbformat": 4,
 "nbformat_minor": 5
}
